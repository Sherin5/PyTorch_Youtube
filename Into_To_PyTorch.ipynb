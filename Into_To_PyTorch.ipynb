{
  "nbformat": 4,
  "nbformat_minor": 0,
  "metadata": {
    "colab": {
      "provenance": [],
      "gpuType": "T4",
      "authorship_tag": "ABX9TyMkUTtsvfqfOsoBvxpP/ZBN",
      "include_colab_link": true
    },
    "kernelspec": {
      "name": "python3",
      "display_name": "Python 3"
    },
    "language_info": {
      "name": "python"
    },
    "accelerator": "GPU"
  },
  "cells": [
    {
      "cell_type": "markdown",
      "metadata": {
        "id": "view-in-github",
        "colab_type": "text"
      },
      "source": [
        "<a href=\"https://colab.research.google.com/github/Sherin5/PyTorch_Youtube/blob/main/Into_To_PyTorch.ipynb\" target=\"_parent\"><img src=\"https://colab.research.google.com/assets/colab-badge.svg\" alt=\"Open In Colab\"/></a>"
      ]
    },
    {
      "cell_type": "code",
      "execution_count": 10,
      "metadata": {
        "id": "U0l9RFD7PPWf"
      },
      "outputs": [],
      "source": [
        "import torch"
      ]
    },
    {
      "cell_type": "code",
      "source": [
        "import numpy as np"
      ],
      "metadata": {
        "id": "AeLrUokXPekT"
      },
      "execution_count": 11,
      "outputs": []
    },
    {
      "cell_type": "code",
      "source": [
        "import torch.nn as nn\n",
        "import torch.nn.functional as F\n"
      ],
      "metadata": {
        "id": "UNH3Y5pBRSn9"
      },
      "execution_count": 12,
      "outputs": []
    },
    {
      "cell_type": "code",
      "source": [
        "class Model(nn.Module):\n",
        "  def __init__(self, in_features=4, h1=8, h2=9, out=3):\n",
        "    super().__init__()\n",
        "    self.fc1 = nn.Linear(in_features, h1)\n",
        "    self.fc2 = nn.Linear(h1, h2)\n",
        "    self.out = nn.Linear(h2, out)\n",
        "\n",
        "  def forward(self, x):\n",
        "    x = F.relu(self.fc1(x))\n",
        "    x = F.relu(self.fc2(x))\n",
        "    x = self.out(x)\n",
        "    return x\n"
      ],
      "metadata": {
        "id": "qtUvMhujYnHj"
      },
      "execution_count": 13,
      "outputs": []
    },
    {
      "cell_type": "code",
      "source": [
        "torch.manual_seed(41)\n",
        "model = Model()"
      ],
      "metadata": {
        "id": "vQRW0Vn_bdJr"
      },
      "execution_count": 14,
      "outputs": []
    },
    {
      "cell_type": "code",
      "source": [
        "import pandas as pd\n",
        "import matplotlib.pyplot as plt\n",
        "%matplotlib inline\n"
      ],
      "metadata": {
        "id": "ySDkMwIecA1w"
      },
      "execution_count": 15,
      "outputs": []
    },
    {
      "cell_type": "code",
      "source": [
        "url = 'https://gist.githubusercontent.com/curran/a08a1080b88344b0c8a7/raw/0e7a9b0a5d22642a06d3d5b9bcbad9890c8ee534/iris.csv'\n",
        "df = pd.read_csv(url)"
      ],
      "metadata": {
        "id": "gJWjJP6BkG-d"
      },
      "execution_count": 16,
      "outputs": []
    },
    {
      "cell_type": "code",
      "source": [
        "df['species'] = df['species'].replace(['setosa', 'versicolor', 'virginica'], [0, 1, 2])"
      ],
      "metadata": {
        "id": "Ap-axLsykX8G"
      },
      "execution_count": 18,
      "outputs": []
    },
    {
      "cell_type": "code",
      "source": [
        "X =df.drop('species', axis=1).values\n",
        "y = df['species'].values"
      ],
      "metadata": {
        "id": "wxnUlolgkZN8"
      },
      "execution_count": 19,
      "outputs": []
    },
    {
      "cell_type": "code",
      "source": [
        "from sklearn.model_selection import train_test_split"
      ],
      "metadata": {
        "id": "MgzHIYcnlOjU"
      },
      "execution_count": 20,
      "outputs": []
    },
    {
      "cell_type": "code",
      "source": [
        "X_train,X_test, y_train, y_test = train_test_split(X, y, test_size=0.2, random_state=41)"
      ],
      "metadata": {
        "id": "ISfDEG5-lU-c"
      },
      "execution_count": 21,
      "outputs": []
    },
    {
      "cell_type": "code",
      "source": [
        "X_train = torch.FloatTensor(X_train)\n",
        "X_test = torch.FloatTensor(X_test)\n",
        "y_train = torch.LongTensor(y_train)\n",
        "y_test = torch.LongTensor(y_test)"
      ],
      "metadata": {
        "id": "KYNxK_BYlmQx"
      },
      "execution_count": 22,
      "outputs": []
    },
    {
      "cell_type": "code",
      "source": [
        "## Measure error\n",
        "criterion = nn.CrossEntropyLoss()\n",
        "#Choose optimizer\n",
        "optimizer = torch.optim.Adam(model.parameters(), lr=0.01)"
      ],
      "metadata": {
        "id": "9ZlPl1eAmAZy"
      },
      "execution_count": 23,
      "outputs": []
    },
    {
      "cell_type": "code",
      "source": [
        "## TRain our model\n",
        "## Epochs: one run thorugh all our training data\n",
        "\n",
        "epochs=100\n",
        "losses = []\n",
        "for i in range(epochs):\n",
        "  y_pred = model.forward(X_train)\n",
        "  loss = criterion(y_pred, y_train)\n",
        "  losses.append(loss.detach().numpy())\n",
        "\n",
        "  if i%10 == 0:\n",
        "    print(\"epoch:\", i, \"loss:\", loss)\n",
        "  optimizer.zero_grad()\n",
        "  loss.backward()\n",
        "  optimizer.step()"
      ],
      "metadata": {
        "colab": {
          "base_uri": "https://localhost:8080/"
        },
        "id": "aQNBgneUm9h-",
        "outputId": "5c53fb12-0e90-48e6-cc3c-e171a0518672"
      },
      "execution_count": 24,
      "outputs": [
        {
          "output_type": "stream",
          "name": "stdout",
          "text": [
            "epoch: 0 loss: tensor(1.1252, grad_fn=<NllLossBackward0>)\n",
            "epoch: 10 loss: tensor(1.0096, grad_fn=<NllLossBackward0>)\n",
            "epoch: 20 loss: tensor(0.8157, grad_fn=<NllLossBackward0>)\n",
            "epoch: 30 loss: tensor(0.5857, grad_fn=<NllLossBackward0>)\n",
            "epoch: 40 loss: tensor(0.4000, grad_fn=<NllLossBackward0>)\n",
            "epoch: 50 loss: tensor(0.2677, grad_fn=<NllLossBackward0>)\n",
            "epoch: 60 loss: tensor(0.1794, grad_fn=<NllLossBackward0>)\n",
            "epoch: 70 loss: tensor(0.1215, grad_fn=<NllLossBackward0>)\n",
            "epoch: 80 loss: tensor(0.0860, grad_fn=<NllLossBackward0>)\n",
            "epoch: 90 loss: tensor(0.0652, grad_fn=<NllLossBackward0>)\n"
          ]
        }
      ]
    },
    {
      "cell_type": "code",
      "source": [
        "plt.plot(range(epochs), losses)\n",
        "plt.ylabel('Loss')\n",
        "plt.xlabel('Epoch')"
      ],
      "metadata": {
        "colab": {
          "base_uri": "https://localhost:8080/",
          "height": 466
        },
        "id": "s9MZhvOjoSuJ",
        "outputId": "d600669e-110e-43d9-f325-fbc22d0ee282"
      },
      "execution_count": 25,
      "outputs": [
        {
          "output_type": "execute_result",
          "data": {
            "text/plain": [
              "Text(0.5, 0, 'Epoch')"
            ]
          },
          "metadata": {},
          "execution_count": 25
        },
        {
          "output_type": "display_data",
          "data": {
            "text/plain": [
              "<Figure size 640x480 with 1 Axes>"
            ],
            "image/png": "[encoded data removed]"
          },
          "metadata": {}
        }
      ]
    },
    {
      "cell_type": "code",
      "source": [
        "## Test our model on our test data\n",
        "with torch.no_grad():\n",
        "  y_eval = model.forward(X_test)\n",
        "  loss = criterion(y_eval, y_test)\n",
        "print(\"Loss:\", loss)"
      ],
      "metadata": {
        "colab": {
          "base_uri": "https://localhost:8080/"
        },
        "id": "52ymH2xNo-i6",
        "outputId": "1c61db9f-9d2f-4c4e-8a82-35c67d7372b1"
      },
      "execution_count": 26,
      "outputs": [
        {
          "output_type": "stream",
          "name": "stdout",
          "text": [
            "Loss: tensor(0.1315)\n"
          ]
        }
      ]
    },
    {
      "cell_type": "code",
      "source": [
        "correct = 0\n",
        "with torch.no_grad():\n",
        "  for i, data in enumerate(X_test):\n",
        "    y_val = model.forward(data)\n",
        "    print(f'{i+1}.) {str(y_val)}')"
      ],
      "metadata": {
        "colab": {
          "base_uri": "https://localhost:8080/"
        },
        "id": "3ng-AmMHpw5K",
        "outputId": "8ca994d2-e83c-4a57-e0b1-c3916609d2b0"
      },
      "execution_count": 27,
      "outputs": [
        {
          "output_type": "stream",
          "name": "stdout",
          "text": [
            "1.) tensor([-5.8760,  4.4628,  6.5124])\n",
            "2.) tensor([-7.5436,  4.1670,  9.7255])\n",
            "3.) tensor([-8.4504,  5.1271, 10.1987])\n",
            "4.) tensor([-4.3398,  5.6267,  2.5608])\n",
            "5.) tensor([-7.1825,  4.8754,  8.2992])\n",
            "6.) tensor([-3.3974,  5.3463,  1.2803])\n",
            "7.) tensor([-5.9231,  4.9822,  5.9997])\n",
            "8.) tensor([-4.2881,  5.7003,  2.3889])\n",
            "9.) tensor([-6.5356,  4.9257,  7.1260])\n",
            "10.) tensor([-8.0509,  4.4129, 10.3286])\n",
            "11.) tensor([-5.6762,  4.9500,  5.6215])\n",
            "12.) tensor([ 4.5662, -2.2476, -2.8911])\n",
            "13.) tensor([ 4.2571, -1.9967, -2.7330])\n",
            "14.) tensor([-2.1108,  4.0515,  0.5799])\n",
            "15.) tensor([ 3.4575, -1.2098, -2.3514])\n",
            "16.) tensor([-5.4724,  5.1165,  5.0934])\n",
            "17.) tensor([ 4.0557, -1.7949, -2.6492])\n",
            "18.) tensor([-5.8075,  4.6053,  6.2458])\n",
            "19.) tensor([ 4.4343, -2.1392, -2.8242])\n",
            "20.) tensor([ 3.4527, -1.2514, -2.3660])\n",
            "21.) tensor([-2.6189,  4.5619,  0.8574])\n",
            "22.) tensor([-7.7412,  4.7377,  9.4199])\n",
            "23.) tensor([ 3.5743, -1.3221, -2.4135])\n",
            "24.) tensor([ 4.5365, -2.2383, -2.8684])\n",
            "25.) tensor([-2.6579,  4.6177,  0.8823])\n",
            "26.) tensor([-3.2865,  5.2229,  1.2164])\n",
            "27.) tensor([-4.6514,  5.7776,  2.9273])\n",
            "28.) tensor([-2.9464,  4.8892,  1.0379])\n",
            "29.) tensor([ 4.5847, -2.2687, -2.8974])\n",
            "30.) tensor([-4.5784,  5.4554,  3.1660])\n"
          ]
        }
      ]
    },
    {
      "cell_type": "code",
      "source": [],
      "metadata": {
        "id": "Br8MjdM5qcr7"
      },
      "execution_count": null,
      "outputs": []
    }
  ]
}